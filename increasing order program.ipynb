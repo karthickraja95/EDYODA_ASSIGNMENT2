{
 "cells": [
  {
   "cell_type": "code",
   "execution_count": 11,
   "id": "54e996be",
   "metadata": {},
   "outputs": [
    {
     "name": "stdout",
     "output_type": "stream",
     "text": [
      "sorted: \n",
      "[(2, 1), (1, 2), (2, 3), (4, 4), (2, 5)]\n"
     ]
    }
   ],
   "source": [
    "def last(l):\n",
    "    return l[-1]\n",
    "def sort(given_list):\n",
    "    return sorted (given_list, key=last)\n",
    "\n",
    "given_list=[(2, 5), (1, 2), (4, 4), (2, 3), (2, 1)]\n",
    "print(\"sorted: \")\n",
    "print(sort(given_list))\n",
    "\n"
   ]
  },
  {
   "cell_type": "code",
   "execution_count": null,
   "id": "b1981604",
   "metadata": {},
   "outputs": [],
   "source": []
  }
 ],
 "metadata": {
  "kernelspec": {
   "display_name": "Python 3 (ipykernel)",
   "language": "python",
   "name": "python3"
  },
  "language_info": {
   "codemirror_mode": {
    "name": "ipython",
    "version": 3
   },
   "file_extension": ".py",
   "mimetype": "text/x-python",
   "name": "python",
   "nbconvert_exporter": "python",
   "pygments_lexer": "ipython3",
   "version": "3.10.2"
  }
 },
 "nbformat": 4,
 "nbformat_minor": 5
}
